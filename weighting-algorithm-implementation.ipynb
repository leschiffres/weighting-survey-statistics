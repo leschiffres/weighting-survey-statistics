{
 "cells": [
  {
   "cell_type": "code",
   "execution_count": 1,
   "id": "632d9601-c551-49a6-9762-8fceaf47e0cd",
   "metadata": {},
   "outputs": [],
   "source": [
    "import pandas as pd\n",
    "import numpy as np\n",
    "from copy import deepcopy"
   ]
  },
  {
   "cell_type": "code",
   "execution_count": 2,
   "id": "724ad4ec-4179-4ddc-9675-e757508ca1f1",
   "metadata": {},
   "outputs": [
    {
     "data": {
      "text/html": [
       "<div>\n",
       "<style scoped>\n",
       "    .dataframe tbody tr th:only-of-type {\n",
       "        vertical-align: middle;\n",
       "    }\n",
       "\n",
       "    .dataframe tbody tr th {\n",
       "        vertical-align: top;\n",
       "    }\n",
       "\n",
       "    .dataframe thead th {\n",
       "        text-align: right;\n",
       "    }\n",
       "</style>\n",
       "<table border=\"1\" class=\"dataframe\">\n",
       "  <thead>\n",
       "    <tr style=\"text-align: right;\">\n",
       "      <th></th>\n",
       "      <th>Pclass</th>\n",
       "      <th>Sex</th>\n",
       "      <th>Age</th>\n",
       "      <th>FamilySize</th>\n",
       "      <th>Fare</th>\n",
       "      <th>Embarked</th>\n",
       "    </tr>\n",
       "  </thead>\n",
       "  <tbody>\n",
       "    <tr>\n",
       "      <th>0</th>\n",
       "      <td>3</td>\n",
       "      <td>male</td>\n",
       "      <td>22.0</td>\n",
       "      <td>1</td>\n",
       "      <td>7.2500</td>\n",
       "      <td>S</td>\n",
       "    </tr>\n",
       "    <tr>\n",
       "      <th>1</th>\n",
       "      <td>1</td>\n",
       "      <td>female</td>\n",
       "      <td>38.0</td>\n",
       "      <td>1</td>\n",
       "      <td>71.2833</td>\n",
       "      <td>C</td>\n",
       "    </tr>\n",
       "    <tr>\n",
       "      <th>2</th>\n",
       "      <td>3</td>\n",
       "      <td>female</td>\n",
       "      <td>26.0</td>\n",
       "      <td>0</td>\n",
       "      <td>7.9250</td>\n",
       "      <td>S</td>\n",
       "    </tr>\n",
       "    <tr>\n",
       "      <th>3</th>\n",
       "      <td>1</td>\n",
       "      <td>female</td>\n",
       "      <td>35.0</td>\n",
       "      <td>1</td>\n",
       "      <td>53.1000</td>\n",
       "      <td>S</td>\n",
       "    </tr>\n",
       "    <tr>\n",
       "      <th>4</th>\n",
       "      <td>3</td>\n",
       "      <td>male</td>\n",
       "      <td>35.0</td>\n",
       "      <td>0</td>\n",
       "      <td>8.0500</td>\n",
       "      <td>S</td>\n",
       "    </tr>\n",
       "  </tbody>\n",
       "</table>\n",
       "</div>"
      ],
      "text/plain": [
       "   Pclass     Sex   Age  FamilySize     Fare Embarked\n",
       "0       3    male  22.0           1   7.2500        S\n",
       "1       1  female  38.0           1  71.2833        C\n",
       "2       3  female  26.0           0   7.9250        S\n",
       "3       1  female  35.0           1  53.1000        S\n",
       "4       3    male  35.0           0   8.0500        S"
      ]
     },
     "execution_count": 2,
     "metadata": {},
     "output_type": "execute_result"
    }
   ],
   "source": [
    "df = pd.read_csv('titanic.csv')\n",
    "df.head()"
   ]
  },
  {
   "cell_type": "markdown",
   "id": "39ac2f37-64ea-4d38-95b7-3adc78f9250c",
   "metadata": {},
   "source": [
    "## Preprocessing\n",
    "\n",
    "- linear imputation on Age and Fare\n",
    "- set embarkation from two missing rows to majority value\n",
    "- convert numeric variables to categorical ones"
   ]
  },
  {
   "cell_type": "code",
   "execution_count": 3,
   "id": "bea6c7fa-794a-45f0-911c-b1207003498e",
   "metadata": {},
   "outputs": [
    {
     "name": "stderr",
     "output_type": "stream",
     "text": [
      "/var/folders/t3/ypdyw2v10jqbp26wpfl0h4xc0000gn/T/ipykernel_2513/1460985863.py:1: FutureWarning: DataFrame.interpolate with object dtype is deprecated and will raise in a future version. Call obj.infer_objects(copy=False) before interpolating instead.\n",
      "  df = df.interpolate()\n"
     ]
    }
   ],
   "source": [
    "df = df.interpolate()\n",
    "df.loc[pd.isna(df['Embarked']), 'Embarked'] = 'S'"
   ]
  },
  {
   "cell_type": "code",
   "execution_count": 4,
   "id": "f8ce55ea-825c-45d0-9f41-c32a0db21f97",
   "metadata": {},
   "outputs": [
    {
     "data": {
      "text/html": [
       "<div>\n",
       "<style scoped>\n",
       "    .dataframe tbody tr th:only-of-type {\n",
       "        vertical-align: middle;\n",
       "    }\n",
       "\n",
       "    .dataframe tbody tr th {\n",
       "        vertical-align: top;\n",
       "    }\n",
       "\n",
       "    .dataframe thead th {\n",
       "        text-align: right;\n",
       "    }\n",
       "</style>\n",
       "<table border=\"1\" class=\"dataframe\">\n",
       "  <thead>\n",
       "    <tr style=\"text-align: right;\">\n",
       "      <th></th>\n",
       "      <th>Pclass</th>\n",
       "      <th>Sex</th>\n",
       "      <th>Age</th>\n",
       "      <th>FamilySize</th>\n",
       "      <th>Fare</th>\n",
       "      <th>Embarked</th>\n",
       "      <th>AgeGroup</th>\n",
       "      <th>FareGroup</th>\n",
       "    </tr>\n",
       "  </thead>\n",
       "  <tbody>\n",
       "    <tr>\n",
       "      <th>0</th>\n",
       "      <td>3</td>\n",
       "      <td>male</td>\n",
       "      <td>22.0</td>\n",
       "      <td>1</td>\n",
       "      <td>7.2500</td>\n",
       "      <td>S</td>\n",
       "      <td>young adult</td>\n",
       "      <td>Cheap</td>\n",
       "    </tr>\n",
       "    <tr>\n",
       "      <th>1</th>\n",
       "      <td>1</td>\n",
       "      <td>female</td>\n",
       "      <td>38.0</td>\n",
       "      <td>1</td>\n",
       "      <td>71.2833</td>\n",
       "      <td>C</td>\n",
       "      <td>adult</td>\n",
       "      <td>Above Average</td>\n",
       "    </tr>\n",
       "    <tr>\n",
       "      <th>2</th>\n",
       "      <td>3</td>\n",
       "      <td>female</td>\n",
       "      <td>26.0</td>\n",
       "      <td>0</td>\n",
       "      <td>7.9250</td>\n",
       "      <td>S</td>\n",
       "      <td>young adult</td>\n",
       "      <td>Cheap</td>\n",
       "    </tr>\n",
       "    <tr>\n",
       "      <th>3</th>\n",
       "      <td>1</td>\n",
       "      <td>female</td>\n",
       "      <td>35.0</td>\n",
       "      <td>1</td>\n",
       "      <td>53.1000</td>\n",
       "      <td>S</td>\n",
       "      <td>adult</td>\n",
       "      <td>Above Average</td>\n",
       "    </tr>\n",
       "    <tr>\n",
       "      <th>4</th>\n",
       "      <td>3</td>\n",
       "      <td>male</td>\n",
       "      <td>35.0</td>\n",
       "      <td>0</td>\n",
       "      <td>8.0500</td>\n",
       "      <td>S</td>\n",
       "      <td>adult</td>\n",
       "      <td>Cheap</td>\n",
       "    </tr>\n",
       "    <tr>\n",
       "      <th>...</th>\n",
       "      <td>...</td>\n",
       "      <td>...</td>\n",
       "      <td>...</td>\n",
       "      <td>...</td>\n",
       "      <td>...</td>\n",
       "      <td>...</td>\n",
       "      <td>...</td>\n",
       "      <td>...</td>\n",
       "    </tr>\n",
       "    <tr>\n",
       "      <th>1304</th>\n",
       "      <td>3</td>\n",
       "      <td>male</td>\n",
       "      <td>33.5</td>\n",
       "      <td>0</td>\n",
       "      <td>8.0500</td>\n",
       "      <td>S</td>\n",
       "      <td>adult</td>\n",
       "      <td>Cheap</td>\n",
       "    </tr>\n",
       "    <tr>\n",
       "      <th>1305</th>\n",
       "      <td>1</td>\n",
       "      <td>female</td>\n",
       "      <td>39.0</td>\n",
       "      <td>0</td>\n",
       "      <td>108.9000</td>\n",
       "      <td>C</td>\n",
       "      <td>adult</td>\n",
       "      <td>Expensive</td>\n",
       "    </tr>\n",
       "    <tr>\n",
       "      <th>1306</th>\n",
       "      <td>3</td>\n",
       "      <td>male</td>\n",
       "      <td>38.5</td>\n",
       "      <td>0</td>\n",
       "      <td>7.2500</td>\n",
       "      <td>S</td>\n",
       "      <td>adult</td>\n",
       "      <td>Cheap</td>\n",
       "    </tr>\n",
       "    <tr>\n",
       "      <th>1307</th>\n",
       "      <td>3</td>\n",
       "      <td>male</td>\n",
       "      <td>38.5</td>\n",
       "      <td>0</td>\n",
       "      <td>8.0500</td>\n",
       "      <td>S</td>\n",
       "      <td>adult</td>\n",
       "      <td>Cheap</td>\n",
       "    </tr>\n",
       "    <tr>\n",
       "      <th>1308</th>\n",
       "      <td>3</td>\n",
       "      <td>male</td>\n",
       "      <td>38.5</td>\n",
       "      <td>2</td>\n",
       "      <td>22.3583</td>\n",
       "      <td>C</td>\n",
       "      <td>adult</td>\n",
       "      <td>Average</td>\n",
       "    </tr>\n",
       "  </tbody>\n",
       "</table>\n",
       "<p>1309 rows × 8 columns</p>\n",
       "</div>"
      ],
      "text/plain": [
       "      Pclass     Sex   Age  FamilySize      Fare Embarked     AgeGroup  \\\n",
       "0          3    male  22.0           1    7.2500        S  young adult   \n",
       "1          1  female  38.0           1   71.2833        C        adult   \n",
       "2          3  female  26.0           0    7.9250        S  young adult   \n",
       "3          1  female  35.0           1   53.1000        S        adult   \n",
       "4          3    male  35.0           0    8.0500        S        adult   \n",
       "...      ...     ...   ...         ...       ...      ...          ...   \n",
       "1304       3    male  33.5           0    8.0500        S        adult   \n",
       "1305       1  female  39.0           0  108.9000        C        adult   \n",
       "1306       3    male  38.5           0    7.2500        S        adult   \n",
       "1307       3    male  38.5           0    8.0500        S        adult   \n",
       "1308       3    male  38.5           2   22.3583        C        adult   \n",
       "\n",
       "          FareGroup  \n",
       "0             Cheap  \n",
       "1     Above Average  \n",
       "2             Cheap  \n",
       "3     Above Average  \n",
       "4             Cheap  \n",
       "...             ...  \n",
       "1304          Cheap  \n",
       "1305      Expensive  \n",
       "1306          Cheap  \n",
       "1307          Cheap  \n",
       "1308        Average  \n",
       "\n",
       "[1309 rows x 8 columns]"
      ]
     },
     "execution_count": 4,
     "metadata": {},
     "output_type": "execute_result"
    }
   ],
   "source": [
    "bins = [-1, 2, 12, 18, 30, 60, np.inf]\n",
    "labels = ['baby','child','teenager',\"young adult\",'adult','senior']\n",
    "df['AgeGroup'] = pd.cut(df['Age'], bins=bins, labels=labels)\n",
    "\n",
    "bins = [0, 20, 50, 100, np.inf]\n",
    "labels = ['Cheap', 'Average', 'Above Average', 'Expensive']\n",
    "df['FareGroup'] = pd.cut(df['Fare'], bins=bins, labels=labels)\n",
    "\n",
    "# when fare is zero FareGroup is null so we manually fill it as cheap\n",
    "df.loc[pd.isna(df['FareGroup']), 'FareGroup'] = 'Cheap'\n",
    "df"
   ]
  },
  {
   "cell_type": "markdown",
   "id": "e4c73cee-dd3d-4d3b-9d97-47e80de179ac",
   "metadata": {},
   "source": [
    "## Helper functions"
   ]
  },
  {
   "cell_type": "code",
   "execution_count": 5,
   "id": "845c55a4-c527-4471-9da9-7451a9f196fc",
   "metadata": {},
   "outputs": [
    {
     "data": {
      "text/plain": [
       "{'Sex': {'male': 50, 'female': 50}, 'Pclass': {1: 33, 2: 33, 3: 33}}"
      ]
     },
     "execution_count": 5,
     "metadata": {},
     "output_type": "execute_result"
    }
   ],
   "source": [
    "# return the actual distribution of each column\n",
    "def get_distributions(df):\n",
    "    target_columns = ['Pclass', 'Sex', 'AgeGroup', 'FareGroup', 'Embarked', 'FamilySize']\n",
    "    return {c: df[c].value_counts(normalize=True).round(3).to_dict() for c in target_columns}\n",
    "\n",
    "# returns the joint distribution \n",
    "def get_joint_population_data(df, groups=['Pclass', 'Sex']):\n",
    "    return df[groups].value_counts(normalize=True).reset_index().sort_values(by=groups, ignore_index=True)\n",
    "\n",
    "# getting the raw distribution\n",
    "def fetch_sample_size_per_category(desired_distributions, sample_size=100):\n",
    "    dd = deepcopy(desired_distributions)\n",
    "    for category in dd.keys():\n",
    "        for k in dd[category].keys():\n",
    "            dd[category][k] = int(dd[category][k]*sample_size)\n",
    "    return dd\n",
    "\n",
    "desired_distributions = {\n",
    "    'Sex':{'male': 0.5, 'female':0.5},\n",
    "    'Pclass':{1: 1/3, 2:1/3,3:1/3}\n",
    "}\n",
    "fetch_sample_size_per_category(desired_distributions)\n"
   ]
  },
  {
   "cell_type": "markdown",
   "id": "d55abe4d-479b-450b-bd56-5d485c7bab3d",
   "metadata": {},
   "source": [
    "## Get stratified sample"
   ]
  },
  {
   "cell_type": "code",
   "execution_count": 6,
   "id": "246ec4ca-a1fc-4a04-aeee-3747042f1b87",
   "metadata": {},
   "outputs": [],
   "source": [
    "sex_sample = df.groupby(\"Sex\", group_keys=False).apply(lambda x:x.sample(50, random_state=42))\n",
    "class_sample = df.groupby(\"Pclass\", group_keys=False).apply(lambda x:x.sample(50, random_state=42))\n",
    "sample_df = pd.concat([sex_sample, class_sample], ignore_index=True)"
   ]
  },
  {
   "cell_type": "markdown",
   "id": "0ed0df8a-379f-4569-8fc6-b8e20615ac88",
   "metadata": {},
   "source": [
    "# Apply raking\n",
    "\n",
    "Assuming you know the actual distribution of your dataset for the variables `Pclass` and `Sex`, the goal is to estimate the uknown distribution of another uknown variable e.g. `FareGroup`\n",
    "\n",
    "The main idea by the following script is that each row gets a weight of importance, based of how underrepresented a category is.\n",
    "\n",
    "- In the beginning each row gets a weight equal to 1 and then we adjust it accordingly.\n",
    "    - For instance if we know that the actual male percentage is 65% but in our sample men are at 32.5% then every male row should get a doubled weight.\n",
    "- We divide the actual ratio by the observed ratio for each category to get the raking factor.\n",
    "- Then each row gets their weight multiplied by the corresponding factor of `Pclass` and `Sex`\n",
    "\n",
    "At the end we get a weight for each row, which allows us to estimate the distribution of the uknown variables.\n"
   ]
  },
  {
   "cell_type": "code",
   "execution_count": 7,
   "id": "a25d9575-df36-4da9-a3cb-4fe3dd975b84",
   "metadata": {},
   "outputs": [
    {
     "data": {
      "text/plain": [
       "FareGroup\n",
       "Cheap            0.588861\n",
       "Average          0.220911\n",
       "Above Average    0.134534\n",
       "Expensive        0.060532\n",
       "Name: Weight, dtype: float64"
      ]
     },
     "execution_count": 7,
     "metadata": {},
     "output_type": "execute_result"
    }
   ],
   "source": [
    "variables = [\"Pclass\", \"Sex\"]\n",
    "\n",
    "population_data = get_distributions(df)\n",
    "\n",
    "observed_distribution = get_distributions(sample_df)\n",
    "\n",
    "sample_df[\"Weight\"] = 1\n",
    "\n",
    "# Calculate raking factors\n",
    "# by dividing the observed current distribution with the actual share for each variable\n",
    "# we get a degree of importance\n",
    "raking_factors = {}\n",
    "for var in variables:\n",
    "    raking_factors[var] = {\n",
    "        category: population_data[var][category] / observed_distribution[var][category]\n",
    "        for category in population_data[var]\n",
    "    }\n",
    "\n",
    "# Apply raking factors to adjust sample weights\n",
    "sample_df[\"Weight\"] = sample_df[\"Weight\"] * sample_df.apply(\n",
    "    lambda row: np.prod([raking_factors[var][row[var]] for var in variables]),\n",
    "    axis=1\n",
    ")\n",
    "\n",
    "\n",
    "# we get the estimation of the actual distribution\n",
    "sample_df.groupby('FareGroup', observed=False)['Weight'].sum() / sample_df.shape[0]\n"
   ]
  },
  {
   "cell_type": "code",
   "execution_count": 8,
   "id": "f6e9cea0-4125-4e9d-986a-5ff7992e02fa",
   "metadata": {},
   "outputs": [
    {
     "data": {
      "text/plain": [
       "{'Pclass': {3: 0.542, 1: 0.247, 2: 0.212},\n",
       " 'Sex': {'male': 0.644, 'female': 0.356},\n",
       " 'AgeGroup': {'young adult': 0.4,\n",
       "  'adult': 0.4,\n",
       "  'teenager': 0.093,\n",
       "  'child': 0.053,\n",
       "  'baby': 0.028,\n",
       "  'senior': 0.026},\n",
       " 'FareGroup': {'Cheap': 0.575,\n",
       "  'Average': 0.241,\n",
       "  'Above Average': 0.119,\n",
       "  'Expensive': 0.064},\n",
       " 'Embarked': {'S': 0.7, 'C': 0.206, 'Q': 0.094},\n",
       " 'FamilySize': {0: 0.604,\n",
       "  1: 0.18,\n",
       "  2: 0.121,\n",
       "  3: 0.033,\n",
       "  5: 0.019,\n",
       "  4: 0.017,\n",
       "  6: 0.012,\n",
       "  10: 0.008,\n",
       "  7: 0.006}}"
      ]
     },
     "execution_count": 8,
     "metadata": {},
     "output_type": "execute_result"
    }
   ],
   "source": [
    "population_data"
   ]
  },
  {
   "cell_type": "code",
   "execution_count": 9,
   "id": "04dd44ef-bd39-4830-88f8-7d2b1068d9d1",
   "metadata": {},
   "outputs": [
    {
     "data": {
      "text/plain": [
       "{'Pclass': {3: 0.44, 1: 0.296, 2: 0.264},\n",
       " 'Sex': {'male': 0.568, 'female': 0.432},\n",
       " 'AgeGroup': {'young adult': 0.428,\n",
       "  'adult': 0.4,\n",
       "  'teenager': 0.076,\n",
       "  'child': 0.044,\n",
       "  'senior': 0.032,\n",
       "  'baby': 0.02},\n",
       " 'FareGroup': {'Cheap': 0.512,\n",
       "  'Average': 0.252,\n",
       "  'Above Average': 0.16,\n",
       "  'Expensive': 0.076},\n",
       " 'Embarked': {'S': 0.728, 'C': 0.196, 'Q': 0.076},\n",
       " 'FamilySize': {0: 0.616,\n",
       "  1: 0.168,\n",
       "  2: 0.12,\n",
       "  3: 0.052,\n",
       "  4: 0.016,\n",
       "  6: 0.012,\n",
       "  10: 0.008,\n",
       "  7: 0.004,\n",
       "  5: 0.004}}"
      ]
     },
     "execution_count": 9,
     "metadata": {},
     "output_type": "execute_result"
    }
   ],
   "source": [
    "observed_distribution"
   ]
  }
 ],
 "metadata": {
  "kernelspec": {
   "display_name": "Python 3 (ipykernel)",
   "language": "python",
   "name": "python3"
  },
  "language_info": {
   "codemirror_mode": {
    "name": "ipython",
    "version": 3
   },
   "file_extension": ".py",
   "mimetype": "text/x-python",
   "name": "python",
   "nbconvert_exporter": "python",
   "pygments_lexer": "ipython3",
   "version": "3.10.1"
  }
 },
 "nbformat": 4,
 "nbformat_minor": 5
}
